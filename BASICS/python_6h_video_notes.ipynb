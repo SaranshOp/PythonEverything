{
 "cells": [
  {
   "cell_type": "markdown",
   "metadata": {},
   "source": [
    "### Video and Notes\n",
    "\n",
    "#### https://www.youtube.com/watch?v=-j8cVoqFRqA"
   ]
  },
  {
   "cell_type": "code",
   "execution_count": null,
   "metadata": {},
   "outputs": [],
   "source": []
  },
  {
   "cell_type": "code",
   "execution_count": null,
   "metadata": {},
   "outputs": [],
   "source": [
    "\n",
    "\n",
    "# print(\"hello world\")\n",
    "\n",
    "# myName = input(\"Press Enter to continue...\")\n",
    "# print(\"Hello\", myName)\n",
    "\n",
    "# \"\"\"\n",
    "# This is a multi-line \n",
    "# comment\n",
    "# \"\"\"\n",
    "# rewult = pow(2, 3 , 3) # 2^3 % 3\n",
    "# print(rewult)\n",
    "\n",
    "# print ( float(99), float( '3.14'))\n",
    "\n",
    "# x = 0.1\n",
    "# y = 0.2\n",
    "# z = x + y\n",
    "# print(z)\n",
    "\n",
    "# my_string= 'you are a good person'\n",
    "# print ( 'your' in my_string )\n",
    "\n",
    "# symbol_str = '@#$%_dsadsadsadsad^&*'\n",
    "# print(symbol_str.strip('@#$%^&*'))\n",
    "\n",
    "\n",
    "# pi  = 3.14159\n",
    "# pi_str  = f\"the value of pi is {pi:.2f}\"\n",
    "# print(pi_str)\n",
    "\n",
    "# my_list = [\"dog\", \"cat\", \"mouse\"]\n",
    "# my_list.insert(1,\"fish\")\n",
    "# print(my_list)\n",
    "\n",
    "# # del keyword, pop() method, remove() method, clear() method\n",
    "# # my_list = [\"dog\", \"cat\", \"mouse\"]\n",
    "# # del my_list[1]\n",
    "# # print(my_list)\n",
    "# my_list.clear() # remove all elements\n",
    "\n",
    "# animal = [\"dog\", \"cat\", \"mouse\"]\n",
    "# animal.sort(key=len) # hover over it to see the syntax\n",
    "# # eg key = len for sorting by length\n",
    "# print(animal)\n",
    "\n",
    "\n",
    "# my_list =  [[] for i  in range(0,10)]\n",
    "# my_list2 = []*10 # this will create an empty list but ref to the same list\n",
    "# print(my_list)\n",
    "# my_list[2].append(5)\n",
    "# print(my_list)\n",
    "\n",
    "# set notes from youtube.com/watch?v=-j8cVoqFRqA\n",
    "# watch from 2:15:00 to 2:33:00\n",
    "\n",
    "\n",
    "my_dict = dict()\n",
    "my_list = [1,2,3,4,5]\n",
    "my_list2 = [6,7,8,9,10]\n",
    "#my_dict = dict(zip(my_list, my_list2))\n",
    "my_dict = {k:v for k,v in zip(my_list, my_list2)}\n",
    "print(my_dict)\n",
    "\n",
    "\n",
    "# continue from here https://youtu.be/-j8cVoqFRqA?si=-CyKis1jIabM58XQ&t=11874\n",
    "\n"
   ]
  }
 ],
 "metadata": {
  "kernelspec": {
   "display_name": ".venv",
   "language": "python",
   "name": "python3"
  },
  "language_info": {
   "name": "python",
   "version": "3.11.3"
  }
 },
 "nbformat": 4,
 "nbformat_minor": 2
}
