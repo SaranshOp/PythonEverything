{
 "cells": [
  {
   "cell_type": "markdown",
   "metadata": {},
   "source": [
    "### python for data analysis video\n",
    "\n",
    "will only be including some code / notes which i did not knew before - got a eureka out of it.    \n",
    "\n",
    "https://www.youtube.com/playlist?list=PLiC1doDIe9rCYWmH9wIEYEXXaJ4KAi3jc \n"
   ]
  },
  {
   "cell_type": "markdown",
   "metadata": {},
   "source": [
    "List methods \n",
    ".count()\n",
    ".sort()\n",
    ".reverse()      \n",
    "these alter the list itself     \n",
    "use reverse( list ) so that it return a new list if you need it. \n",
    "\n",
    "indexing list[4:2:-1] -> starts at 4th ele and goes till 2 but in reverse.      \n",
    "\n"
   ]
  },
  {
   "cell_type": "code",
   "execution_count": 1,
   "metadata": {},
   "outputs": [],
   "source": [
    "list1 = [ 'old', 'new', 'borrowed', 'blue' ]\n",
    "list2 = list1[1:3]"
   ]
  }
 ],
 "metadata": {
  "kernelspec": {
   "display_name": ".venv",
   "language": "python",
   "name": "python3"
  },
  "language_info": {
   "codemirror_mode": {
    "name": "ipython",
    "version": 3
   },
   "file_extension": ".py",
   "mimetype": "text/x-python",
   "name": "python",
   "nbconvert_exporter": "python",
   "pygments_lexer": "ipython3",
   "version": "3.11.3"
  }
 },
 "nbformat": 4,
 "nbformat_minor": 2
}
